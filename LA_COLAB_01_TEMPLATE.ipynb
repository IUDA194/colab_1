{
  "cells": [
    {
      "cell_type": "markdown",
      "metadata": {
        "id": "aKy5ydpsXxAx"
      },
      "source": [
        "<a target=\"_blank\" href=\"https://colab.research.google.com/github/LPolyakova/Linear_Algebra_for_CS_students/blob/main/Colab_templates/LA_COLAB_01_TEMPLATE.ipynb\">\n",
        "  <img src=\"https://colab.research.google.com/assets/colab-badge.svg\" alt=\"Open In Colab\"/>\n",
        "</a>"
      ]
    },
    {
      "cell_type": "markdown",
      "metadata": {
        "id": "wO7rDz2w7pM3"
      },
      "source": [
        "# **ЛА_COLAB_01: базові поняття лінійної алгебри**"
      ]
    },
    {
      "cell_type": "markdown",
      "metadata": {
        "id": "R-PFsPsS_hZ_"
      },
      "source": [
        "Гладкий Ярослав"
      ]
    },
    {
      "cell_type": "markdown",
      "metadata": {
        "id": "VyPQqmIk75wW"
      },
      "source": [
        "В цьому колабі треба продемонструвати виконання завдань з комп'ютерних практикумів LA_CP_01, LA_CP_02, LA_CP_03, які знаходяться за [адресою](https://github.com/LPolyakova/Linear_Algebra_for_CS_students/tree/main/CP)"
      ]
    },
    {
      "cell_type": "markdown",
      "metadata": {
        "id": "MY3sTd5U8cXV"
      },
      "source": [
        "Користуватись ресурсами з інтернету або штучним інтелектом не заборонено. Однак, якщо ви використовуєте ШІ, код, довідкові матеріали з інтернету або літератури, ОБОВ'ЯЗКОВО вказуйте посилання на ці ресурси в коментарях. Інакше це буде розцінено як плагіат і завдання не буде зараховано. Також ви повинні розібратися в усьому, що використовували, і бути в змозі відповідати на питання, які стосуються всього, що є у вашій роботі.\n",
        "\n",
        "Виконувати завдання слід САМОСТІЙНО. У разі виявлення однакових розв'язків роботи будуть анульовані!\n",
        "\n",
        "Необхідні імпорти вказано в преамбулі. Імпортувати інші пакети не дозволяється\n",
        "\n",
        "📕 [Довідник з Markdown](https://www.markdownguide.org\n",
        ") (для набору в текстових комірках)\n",
        "\n",
        "📕 [Короткий довідник набору формул у TeX](https://ru.wikibooks.org/wiki/%D0%9C%D0%B0%D1%82%D0%B5%D0%BC%D0%B0%D1%82%D0%B8%D1%87%D0%B5%D1%81%D0%BA%D0%B8%D0%B5_%D1%84%D0%BE%D1%80%D0%BC%D1%83%D0%BB%D1%8B_%D0%B2_LaTeX)"
      ]
    },
    {
      "cell_type": "code",
      "execution_count": null,
      "metadata": {
        "id": "3Wx4heRt7FrT"
      },
      "outputs": [],
      "source": [
        "import matplotlib.pyplot as plt\n",
        "import numpy as np\n",
        "import networkx as nx\n",
        "import pandas as pd\n",
        "from scipy import linalg\n",
        "import sympy"
      ]
    },
    {
      "cell_type": "markdown",
      "metadata": {
        "id": "KRAhGRE39XwX"
      },
      "source": [
        " 💻 **Вправа 1.** Оберіть одну з вправ 1.1 - 1.5 на ваш вибір з комп'ютерного практикуму [LA_CP_01](https://github.com/LPolyakova/Linear_Algebra_for_CS_students/blob/main/CP/LA_CP_01_Matrices.ipynb). Скопіюйте умову в комірки нижче та виконайте завдання."
      ]
    },
    {
      "cell_type": "markdown",
      "source": [
        "✔️ **Послідовність виконання:**\n",
        "\n",
        "1. Створюється новий масив, що містить додаткову рамку шириною один елемент з кожного боку, заповнену одиницями.  \n",
        "2. Початкова матриця вставляється в центр нового масиву, зберігаючи її розмірність і тип даних.  \n",
        "3. Використання `original_matrix.dtype` гарантує, що тип даних нової матриці буде ідентичним до вихідної, що запобігає можливим проблемам із типами значень.  \n",
        "4. Отримана матриця з рамкою повертається та виводиться на екран.  \n",
        "\n",
        "### Використані функції NumPy:\n",
        "\n",
        "\n",
        "- `np.array()` – створення матриці з введених користувачем даних.  \n",
        "- `np.ones()` – генерація нового масиву, заповненого одиницями, з урахуванням типу `dtype` вихідної матриці.  \n",
        "- `.shape` – отримання кількості рядків і стовпців початкової матриці.  \n",
        "- `.dtype` – збереження вихідного типу даних у новій матриці."
      ],
      "metadata": {
        "id": "uL48yplszlo_"
      }
    },
    {
      "cell_type": "code",
      "execution_count": 2,
      "metadata": {
        "id": "okRURROp9KFe",
        "colab": {
          "base_uri": "https://localhost:8080/"
        },
        "outputId": "72a152f4-8605-49a6-9f82-ee6a14e62eb9"
      },
      "outputs": [
        {
          "output_type": "stream",
          "name": "stdout",
          "text": [
            "[[1 1 1 1]\n",
            " [1 2 1 1]\n",
            " [1 1 1 1]]\n"
          ]
        }
      ],
      "source": [
        "import numpy as np\n",
        "\n",
        "def decorate_matrix(matrix):\n",
        "    m, n = matrix.shape\n",
        "    decorated = np.ones((m + 2, n + 2), dtype=matrix.dtype)\n",
        "    decorated[1:-1, 1:-1] = matrix\n",
        "    return decorated\n",
        "\n",
        "matrix = np.array([[2, 1]])\n",
        "decorated = decorate_matrix(matrix)\n",
        "print(decorated)"
      ]
    },
    {
      "cell_type": "markdown",
      "metadata": {
        "id": "BNaaoaNw-fCT"
      },
      "source": [
        "<font color=\"red\"> *Коментар викладача:* <font>"
      ]
    },
    {
      "cell_type": "markdown",
      "metadata": {
        "id": "cf2hxpP4AyDL"
      },
      "source": [
        "\n",
        "🧩  **Задача 1.** Оберіть одну із задач 1.6 - 1.7 на ваш вибір з комп'ютерного практикуму [LA_CP_01](https://github.com/LPolyakova/Linear_Algebra_for_CS_students/blob/main/CP/LA_CP_01_Matrices.ipynb). Скопіюйте умову в комірки нижче та виконайте завдання."
      ]
    },
    {
      "cell_type": "markdown",
      "metadata": {
        "id": "B8vAPaTNAyDM"
      },
      "source": [
        "**Доведення методом математичної індукції**\n",
        "\n",
        "**Твердження:**\n",
        "$$\\begin{pmatrix} F_{n+1} \\\\ F_n \\end{pmatrix} = M^n \\begin{pmatrix} 1 \\\\ 0 \\end{pmatrix},$$\n",
        "де\n",
        "$$M = \\begin{pmatrix} 1 & 1 \\\\ 1 & 0 \\end{pmatrix}$$\n",
        "і \\( F_n \\) — числа Фібоначчі.\n",
        "\n",
        "**1. База індукції**\n",
        "Перевіримо твердження при \\( n = 1 \\):\n",
        "$$M^1 = M = \\begin{pmatrix} 1 & 1 \\\\ 1 & 0 \\end{pmatrix}$$\n",
        "Тоді:\n",
        "$$M^1 \\begin{pmatrix} 1 \\\\ 0 \\end{pmatrix} =\n",
        "\\begin{pmatrix} 1 & 1 \\\\ 1 & 0 \\end{pmatrix}\n",
        "\\begin{pmatrix} 1 \\\\ 0 \\end{pmatrix} =\n",
        "\\begin{pmatrix} 1 \\\\ 1 \\end{pmatrix}$$\n",
        "Це відповідає значенням:\n",
        "$$\\begin{pmatrix} F_2 \\\\ F_1 \\end{pmatrix} = \\begin{pmatrix} 1 \\\\ 1 \\end{pmatrix}$$\n",
        "Отже, база індукції підтверджена.\n",
        "\n",
        "**2. Індуктивне припущення**\n",
        "Припустимо, що рівність справедлива для деякого натурального \\( k \\), тобто:\n",
        "$$\\begin{pmatrix} F_{k+1} \\\\ F_k \\end{pmatrix} = M^k \\begin{pmatrix} 1 \\\\ 0 \\end{pmatrix}$$\n",
        "Необхідно довести її істинність для \\( k+1 \\), тобто показати, що:\n",
        "$$\\begin{pmatrix} F_{k+2} \\\\ F_{k+1} \\end{pmatrix} = M^{k+1} \\begin{pmatrix} 1 \\\\ 0 \\end{pmatrix}$$\n",
        "\n",
        "**3. Індуктивний перехід**\n",
        "Відомо, що:\n",
        "$$M^{k+1} = M \\cdot M^k$$\n",
        "Помножимо обидві частини припущення на \\( M \\):\n",
        "$$M \\begin{pmatrix} F_{k+1} \\\\ F_k \\end{pmatrix} = M M^k \\begin{pmatrix} 1 \\\\ 0 \\end{pmatrix} = M^{k+1} \\begin{pmatrix} 1 \\\\ 0 \\end{pmatrix}$$\n",
        "Обчислимо множення:\n",
        "$$M \\begin{pmatrix} F_{k+1} \\\\ F_k \\end{pmatrix} =\n",
        "\\begin{pmatrix} 1 & 1 \\\\ 1 & 0 \\end{pmatrix}\n",
        "\\begin{pmatrix} F_{k+1} \\\\ F_k \\end{pmatrix} =\n",
        "\\begin{pmatrix} F_{k+1} + F_k \\\\ F_{k+1} \\end{pmatrix}$$\n",
        "Згідно з рекурентною формулою чисел Фібоначчі:\n",
        "$$F_{k+2} = F_{k+1} + F_k$$\n",
        "тому:\n",
        "$$\\begin{pmatrix} F_{k+2} \\\\ F_{k+1} \\end{pmatrix} = M^{k+1} \\begin{pmatrix} 1 \\\\ 0 \\end{pmatrix}$$\n",
        "Отже, твердження справедливе для \\( k+1 \\).\n",
        "\n",
        "**Висновок**\n",
        "Оскільки твердження доведено для базового випадку (\\( n = 1 \\)) і підтверджено перехід від \\( k \\) до \\( k+1 \\), то за принципом математичної індукції рівність:\n",
        "$$\\begin{pmatrix} F_{n+1} \\\\ F_n \\end{pmatrix} = M^n \\begin{pmatrix} 1 \\\\ 0 \\end{pmatrix}$$\n",
        "вірна для всіх натуральних \\( n \\).\n"
      ]
    },
    {
      "cell_type": "code",
      "source": [
        "def recursive_sequence(coeffs, initial_values, index):\n",
        "    \"\"\"\n",
        "    Вычисляет n-й элемент линейной рекуррентной последовательности рекурсивным методом.\n",
        "\n",
        "    :param coeffs: список коэффициентов α_j (размер k)\n",
        "    :param initial_values: начальные значения c_0, c_1, ..., c_{k-1}\n",
        "    :param index: номер элемента, который необходимо вычислить\n",
        "    :return: значение c_n\n",
        "    \"\"\"\n",
        "    order = len(initial_values)\n",
        "    if index < order:\n",
        "        return initial_values[index]\n",
        "    return sum(coeffs[j] * recursive_sequence(coeffs, initial_values, index - j - 1) for j in range(order))\n"
      ],
      "metadata": {
        "id": "idvEmo522XeU"
      },
      "execution_count": 4,
      "outputs": []
    },
    {
      "cell_type": "code",
      "source": [
        "def matrix_exponentiation(coeffs, initial_values, index):\n",
        "    \"\"\"\n",
        "    Вычисляет n-й элемент линейной рекуррентной последовательности с использованием матричного метода.\n",
        "\n",
        "    :param coeffs: список коэффициентов α_j (размер k)\n",
        "    :param initial_values: начальные значения c_0, c_1, ..., c_{k-1}\n",
        "    :param index: номер элемента, который необходимо вычислить\n",
        "    :return: значение c_n\n",
        "    \"\"\"\n",
        "    order = len(coeffs)\n",
        "    if index < order:\n",
        "        return initial_values[index]\n",
        "\n",
        "    trans_matrix = np.zeros((order, order), dtype=int)\n",
        "    trans_matrix[0] = coeffs\n",
        "    for i in range(1, order):\n",
        "        trans_matrix[i][i - 1] = 1\n",
        "\n",
        "    initial_vector = np.array(initial_values[::-1]).reshape((order, 1))\n",
        "    powered_matrix = np.linalg.matrix_power(trans_matrix, index - order + 1)\n",
        "\n",
        "    return (powered_matrix @ initial_vector)[0, 0]"
      ],
      "metadata": {
        "id": "YzOYWcSv2YcW"
      },
      "execution_count": 5,
      "outputs": []
    },
    {
      "cell_type": "code",
      "execution_count": 9,
      "metadata": {
        "id": "-bt-iszTAyDN",
        "colab": {
          "base_uri": "https://localhost:8080/",
          "height": 472
        },
        "outputId": "da750401-110e-4cc1-8900-e107a34c2f1b"
      },
      "outputs": [
        {
          "output_type": "display_data",
          "data": {
            "text/plain": [
              "<Figure size 640x480 with 1 Axes>"
            ],
            "image/png": "[encoded data removed]"
          },
          "metadata": {}
        }
      ],
      "source": [
        "import numpy as np\n",
        "import timeit\n",
        "import matplotlib.pyplot as plt\n",
        "\n",
        "if __name__ == \"__main__\":\n",
        "  fib_coeffs = [1, 1]\n",
        "  fib_initial_values = [0, 1]\n",
        "  n_values = list(range(1, 30))\n",
        "  recursive_times = []\n",
        "  matrix_times = []\n",
        "\n",
        "  for n in n_values:\n",
        "      rec_time = timeit.timeit(lambda: recursive_sequence(fib_coeffs, fib_initial_values, n), number=1)\n",
        "      mat_time = timeit.timeit(lambda: matrix_exponentiation(fib_coeffs, fib_initial_values, n), number=1)\n",
        "\n",
        "      recursive_times.append(rec_time)\n",
        "      matrix_times.append(mat_time)\n",
        "\n",
        "  plt.plot(n_values, recursive_times, label=\"Рекурсивный метод\", marker=\"o\")\n",
        "  plt.plot(n_values, matrix_times, label=\"Матричный метод\", marker=\"s\")\n",
        "  plt.xlabel(\"Индекс n\")\n",
        "  plt.ylabel(\"Время (сек)\")\n",
        "  plt.legend()\n",
        "  plt.title(\"Сравнение производительности алгоритмов\")\n",
        "  plt.show()\n"
      ]
    },
    {
      "cell_type": "markdown",
      "metadata": {
        "id": "WSpKbeK8AyDO"
      },
      "source": [
        "<font color=\"red\"> *Коментар викладача:* <font>"
      ]
    },
    {
      "cell_type": "markdown",
      "metadata": {
        "id": "oXmrNhSbBin4"
      },
      "source": [
        " 💻 **Вправа 2.** Оберіть одну з вправ 2.1 - 2.5 на ваш вибір з комп'ютерного практикуму [LA_CP_02](https://github.com/LPolyakova/Linear_Algebra_for_CS_students/blob/main/CP/LA_CP_02_Linear_equations.ipynb). Скопіюйте умову в комірки нижче та виконайте завдання."
      ]
    },
    {
      "cell_type": "markdown",
      "metadata": {
        "id": "sTFY5FN4Bin5"
      },
      "source": [
        "Ця функція виконує такі дії:\n",
        "\n",
        "    Знаходить елемент з найбільшим модулем у поточному стовпці, щоб запобігти діленню на нуль.\n",
        "    За потреби змінює місцями рядки, гарантуючи ненульовий головний елемент.\n",
        "    Нормалізує головний елемент до одиниці.\n",
        "    Виключає відповідну змінну з інших рівнянь.\n",
        "    Округлює надто малі значення до нуля для мінімізації похибок округлення."
      ]
    },
    {
      "cell_type": "code",
      "execution_count": 10,
      "metadata": {
        "id": "O-_TE41GBin6",
        "colab": {
          "base_uri": "https://localhost:8080/"
        },
        "outputId": "29d41c1c-9e9a-4bc9-9ade-60f93f547280"
      },
      "outputs": [
        {
          "output_type": "stream",
          "name": "stdout",
          "text": [
            "Рядковий східчастий вигляд для 4x4 матриці:\n",
            "[[1. 0. 0. 0.]\n",
            " [0. 1. 0. 0.]\n",
            " [0. 0. 1. 0.]\n",
            " [0. 0. 0. 1.]]\n",
            "\n",
            "Рядковий східчастий вигляд для 3x4 матриці:\n",
            "[[ 1.  0.  0. -8.]\n",
            " [ 0.  1.  0.  1.]\n",
            " [ 0.  0.  1. -2.]]\n"
          ]
        }
      ],
      "source": [
        "import numpy as np\n",
        "from typing import Union\n",
        "\n",
        "def row_echelon_form(mat: np.ndarray) -> np.ndarray:\n",
        "    mat = mat.astype(float)\n",
        "    num_rows, num_cols = mat.shape\n",
        "\n",
        "    pivot_row = 0\n",
        "    for pivot_col in range(num_cols):\n",
        "        if pivot_row >= num_rows:\n",
        "            break\n",
        "\n",
        "        max_index = np.argmax(np.abs(mat[pivot_row:, pivot_col])) + pivot_row\n",
        "\n",
        "        if mat[max_index, pivot_col] == 0:\n",
        "            continue\n",
        "\n",
        "        mat[[pivot_row, max_index]] = mat[[max_index, pivot_row]]\n",
        "        mat[pivot_row] /= mat[pivot_row, pivot_col]\n",
        "\n",
        "        for r in range(num_rows):\n",
        "            if r != pivot_row:\n",
        "                mat[r] -= mat[pivot_row] * mat[r, pivot_col]\n",
        "\n",
        "        pivot_row += 1\n",
        "\n",
        "    mat[np.abs(mat) < 1e-10] = 0\n",
        "    return mat\n",
        "\n",
        "if __name__ == \"__main__\":\n",
        "    test_matrix_4x4 = np.array([\n",
        "        [1, 2, -1, -4],\n",
        "        [2, 3, -1, -11],\n",
        "        [-2, 0, -3, 22],\n",
        "        [1, -2, 1, 5]\n",
        "    ])\n",
        "\n",
        "    test_matrix_3x4 = np.array([\n",
        "        [1, 2, -1, -4],\n",
        "        [2, 3, -1, -11],\n",
        "        [-2, 0, -3, 22]\n",
        "    ])\n",
        "\n",
        "    print(\"Рядковий східчастий вигляд для 4x4 матриці:\")\n",
        "    print(row_echelon_form(test_matrix_4x4))\n",
        "\n",
        "    print(\"\\nРядковий східчастий вигляд для 3x4 матриці:\")\n",
        "    print(row_echelon_form(test_matrix_3x4))\n"
      ]
    },
    {
      "cell_type": "markdown",
      "metadata": {
        "id": "kM2eMouGBin6"
      },
      "source": [
        "<font color=\"red\"> *Коментар викладача:* <font>"
      ]
    },
    {
      "cell_type": "markdown",
      "metadata": {
        "id": "DT_1_UojBin7"
      },
      "source": [
        "\n",
        "🧩  **Задача 2.** Оберіть одну із задач 2.6 - 2.7 на ваш вибір з комп'ютерного практикуму [LA_CP_02](https://github.com/LPolyakova/Linear_Algebra_for_CS_students/blob/main/CP/LA_CP_02_Linear_equations.ipynb). Скопіюйте умову в комірки нижче та виконайте завдання."
      ]
    },
    {
      "cell_type": "code",
      "source": [
        "import pandas as pd\n",
        "\n",
        "# Создание DataFrame с начальными данными\n",
        "consumption_data = pd.DataFrame({\n",
        "    'sector': ['S1', 'S2'],\n",
        "    'S1_usage': [5395, 48],\n",
        "    'S2_usage': [2664, 9030],\n",
        "    'total_demand': [25448, 30346]\n",
        "})\n",
        "\n",
        "# Вычисление потребления других секторов\n",
        "consumption_data['external_usage'] = (\n",
        "    consumption_data['total_demand'] - consumption_data['S1_usage'] - consumption_data['S2_usage']\n",
        ")\n",
        "\n",
        "print(\"Исходные данные:\")\n",
        "print(consumption_data)"
      ],
      "metadata": {
        "colab": {
          "base_uri": "https://localhost:8080/"
        },
        "id": "akXKfuMM9k2Y",
        "outputId": "5fe47b38-ae40-4c0a-f3d3-76b08cabe521"
      },
      "execution_count": 23,
      "outputs": [
        {
          "output_type": "stream",
          "name": "stdout",
          "text": [
            "Исходные данные:\n",
            "  sector  S1_usage  S2_usage  total_demand  external_usage\n",
            "0     S1      5395      2664         25448           17389\n",
            "1     S2        48      9030         30346           21268\n"
          ]
        }
      ]
    },
    {
      "cell_type": "markdown",
      "source": [
        "### Аналіз першого завдання  \n",
        "\n",
        "У цьому завданні ми досліджуємо економічну взаємодію двох галузей, визначаючи, який обсяг продукції споживається всередині системи та яка частина спрямовується на зовнішні потреби.  \n",
        "\n",
        "#### Що таке other_consumption?  \n",
        "Цей показник відображає ту частку виробленої продукції, яка не використовується безпосередньо цими двома галузями. Вона може бути реалізована на інших ринках, експортуватися або накопичуватися у вигляді запасів.  \n",
        "\n",
        "#### Як він розраховується?  \n",
        "Щоб визначити other_consumption, необхідно взяти загальний обсяг виробництва (total) кожної галузі та відняти внутрішнє споживання (B1_consumption, B2_consumption). Отриманий результат покаже, скільки продукції залишається для зовнішніх ринків та інших секторів економіки.  \n",
        "\n",
        "#### Чому це важливо?  \n",
        "Цей аналіз дає змогу оцінити економічні потоки та визначити рівень залежності галузей від внутрішнього та зовнішнього попиту. Значні коливання показника other_consumption можуть свідчити про серйозні зміни в економіці: наприклад, про зростання експорту чи скорочення внутрішнього споживання, що впливатиме на стратегічні рішення підприємств і державну політику."
      ],
      "metadata": {
        "id": "adxm99o7Ax_P"
      }
    },
    {
      "cell_type": "code",
      "execution_count": 24,
      "metadata": {
        "id": "6H9u5QiUBin7",
        "colab": {
          "base_uri": "https://localhost:8080/"
        },
        "outputId": "87e7f2d7-f91e-404f-fcdc-3a36d4f11e0f"
      },
      "outputs": [
        {
          "output_type": "stream",
          "name": "stdout",
          "text": [
            "Рассчитанные значения:\n",
            "  Parameter     New_Value\n",
            "0       T1'  26346.572108\n",
            "1       T2'  30301.403334\n"
          ]
        }
      ],
      "source": [
        "import numpy as np\n",
        "import pandas as pd\n",
        "\n",
        "# Используем данные из первого скрипта\n",
        "consumption_analysis = consumption_data.copy()\n",
        "\n",
        "# Исходные данные\n",
        "T1, T2 = consumption_analysis['total_demand']\n",
        "E1, E2 = consumption_analysis['external_usage']\n",
        "forecast_change_1, forecast_change_2 = 200, -25  # прогнозируемые изменения\n",
        "\n",
        "# Обновленные значения внешнего потребления\n",
        "E1_updated = E1 + forecast_change_1\n",
        "E2_updated = E2 + forecast_change_2\n",
        "\n",
        "# Коэффициенты распределения потребления\n",
        "coeff_11, coeff_12 = consumption_analysis.loc[0, ['S1_usage', 'S2_usage']] / T1\n",
        "coeff_21, coeff_22 = consumption_analysis.loc[1, ['S1_usage', 'S2_usage']] / T2\n",
        "\n",
        "# Составление системы уравнений\n",
        "coefficient_matrix = np.array([[1 - coeff_11, -coeff_12], [-coeff_21, 1 - coeff_22]])\n",
        "right_side_vector = np.array([E1_updated, E2_updated])\n",
        "\n",
        "# Решение системы уравнений\n",
        "T1_updated, T2_updated = np.linalg.solve(coefficient_matrix, right_side_vector)\n",
        "\n",
        "# Создание DataFrame с результатами\n",
        "updated_results = pd.DataFrame({\n",
        "    \"Parameter\": [\"T1'\", \"T2'\"],\n",
        "    \"New_Value\": [T1_updated, T2_updated]\n",
        "})\n",
        "\n",
        "print(\"Рассчитанные значения:\")\n",
        "print(updated_results)"
      ]
    },
    {
      "cell_type": "markdown",
      "source": [
        "Аналіз другого завдання\n",
        "\n",
        "У цьому завданні розглядається прогнозування змін у виробництві двох галузей у наступному році з урахуванням змін у зовнішньому споживанні (other_consumption).\n",
        "Суть завдання\n",
        "\n",
        "Ми формуємо систему рівнянь, що описує зв’язок між виробництвом та споживанням. Загальний обсяг виробництва в кожній галузі (D1 і D2) має покривати всі запити, які включають:\n",
        "\n",
        "    Власне споживання галузі (використання продукції для власних потреб).\n",
        "    Витрати інших секторів економіки.\n",
        "    Зовнішнє споживання (експорт, резервування тощо).\n",
        "\n",
        "Щоб спрогнозувати ситуацію на наступний рік, ми враховуємо зміну зовнішнього попиту (Δ1 і Δ2), припускаючи, що частка внутрішнього використання залишатиметься стабільною.\n",
        "Чому це важливо?\n",
        "\n",
        "Такий підхід дозволяє оцінити, як зміни у попиті можуть вплинути на рівень виробництва. Наприклад, зростання попиту на сталь може стимулювати її виробництво, що, у свою чергу, вплине на інші галузі, що залежать від цього ресурсу.\n",
        "\n",
        "З іншого боку, скорочення попиту на автомобілі призведе до зниження їх виробництва, що може позначитися на всьому ланцюжку постачання. У реальних економічних умовах такі прогнози допомагають ухвалювати обґрунтовані управлінські рішення, наприклад, щодо підтримки окремих секторів або регулювання експорту."
      ],
      "metadata": {
        "id": "vO8zJM7jAMV7"
      }
    },
    {
      "cell_type": "code",
      "source": [
        "import numpy as np\n",
        "import pandas as pd\n",
        "\n",
        "def predict_production(df, delta_vector):\n",
        "    n = len(df)\n",
        "\n",
        "    # Поточний рівень виробництва (D)\n",
        "    D = df['total'].values\n",
        "\n",
        "    # Матриця споживання\n",
        "    consumption_matrix = df.iloc[:, 1:-2].values\n",
        "\n",
        "    # Вектор зовнішнього споживання\n",
        "    other_consumption = df['other_consumption'].values\n",
        "\n",
        "    # Прогнозовані зміни у зовнішньому споживанні\n",
        "    new_other_consumption = other_consumption + delta_vector\n",
        "\n",
        "    # Співвідношення споживання всередині економіки\n",
        "    A = consumption_matrix / D.reshape(-1, 1)\n",
        "\n",
        "    # Система рівнянь: (I - A) * D' = new_other_consumption\n",
        "    I = np.eye(n)\n",
        "    A_matrix = I - A\n",
        "\n",
        "    # Розв'язання системи рівнянь\n",
        "    D_new = np.linalg.solve(A_matrix, new_other_consumption)\n",
        "\n",
        "    return D_new\n",
        "\n",
        "# Вектор прогнозованих змін\n",
        "delta_vector = np.array([200, -25])  # Відповідає значенням Δ1, Δ2\n",
        "\n",
        "# Виконання прогнозу\n",
        "new_production = predict_production(df_economy, delta_vector)\n",
        "\n",
        "# Вивід результатів\n",
        "df_results = pd.DataFrame({\n",
        "    \"Branch\": df_economy[\"branch\"],\n",
        "    \"Predicted Production\": new_production\n",
        "})\n",
        "\n",
        "# Відображення результату\n",
        "print(df_results)\n"
      ],
      "metadata": {
        "colab": {
          "base_uri": "https://localhost:8080/"
        },
        "id": "mdId2gvaAQrb",
        "outputId": "3984809f-67e6-434d-996d-8e6fc37dd9a5"
      },
      "execution_count": 27,
      "outputs": [
        {
          "output_type": "stream",
          "name": "stdout",
          "text": [
            "  Branch  Predicted Production\n",
            "0     B1          26346.572108\n",
            "1     B2          30301.403334\n"
          ]
        }
      ]
    },
    {
      "cell_type": "markdown",
      "source": [],
      "metadata": {
        "id": "JRvw4lq2_3pJ"
      }
    },
    {
      "cell_type": "markdown",
      "metadata": {
        "id": "D8I7MA99Bin8"
      },
      "source": [
        "<font color=\"red\"> *Коментар викладача:* <font>"
      ]
    },
    {
      "cell_type": "markdown",
      "metadata": {
        "id": "DUa8Uc9zBjl2"
      },
      "source": [
        "💻 **Вправа 3.** Оберіть одну з вправ 3.1 - 3.5 на ваш вибір з комп'ютерного практикуму [LA_CP_03](https://github.com/LPolyakova/Linear_Algebra_for_CS_students/blob/main/CP/LA_CP_03_Determinants.ipynb). Скопіюйте умову в комірки нижче та виконайте завдання."
      ]
    },
    {
      "cell_type": "markdown",
      "metadata": {
        "id": "CM4qpz4nBjl3"
      },
      "source": [
        "$$\n",
        "\\begin{aligned}\n",
        "1. &\\ \\textbf{Обчислення координат вершини } D \\\\\n",
        "   &\\text{Вершина } D \\text{ паралелограма виражається через три відомі вершини } A, B, C, \\\\\n",
        "   &\\text{користуючись властивістю паралелограма, що діагоналі діляться навпіл точкою перетину.}\\\\\n",
        "   &\\text{Отже, координати } D \\text{ знаходяться за формулою:} \\\\\n",
        "   &x_D = x_A + x_C - x_B,\\quad y_D = y_A + y_C - y_B\n",
        "\\end{aligned}\n",
        "$$\n",
        "\n",
        "$$\n",
        "\\begin{aligned}\n",
        "2. &\\ \\textbf{Обчислення векторів } AB \\text{ і } AD \\\\\n",
        "   &\\text{Вектор } AB \\text{ отримуємо відніманням координат:} \\\\\n",
        "   &AB = (x_B - x_A,\\;y_B - y_A) \\\\\n",
        "   &\\text{Вектор } AD \\text{ знаходимо аналогічно:} \\\\\n",
        "   &AD = (x_D - x_A,\\;y_D - y_A)\n",
        "\\end{aligned}\n",
        "$$\n",
        "\n",
        "$$\n",
        "\\begin{aligned}\n",
        "3. &\\ \\textbf{Обчислення площі паралелограма} \\\\\n",
        "   &\\text{Площа паралелограма дорівнює модулю визначника, складеного з координат векторів } AB \\text{ і } AD: \\\\\n",
        "   &S = |AB_x \\cdot AD_y - AB_y \\cdot AD_x|\n",
        "\\end{aligned}\n",
        "$$\n",
        "\n"
      ]
    },
    {
      "cell_type": "code",
      "execution_count": 29,
      "metadata": {
        "id": "H79NjVGxBjl3",
        "colab": {
          "base_uri": "https://localhost:8080/"
        },
        "outputId": "7ba99296-aa61-447c-f011-4dc8f0b18003"
      },
      "outputs": [
        {
          "output_type": "stream",
          "name": "stdout",
          "text": [
            "Четвертая вершина D: (0, 5)\n",
            "Площадь параллелограмма: 10\n"
          ]
        }
      ],
      "source": [
        "from typing import Tuple\n",
        "\n",
        "def compute_parallelogram(A: Tuple[int, int], B: Tuple[int, int], C: Tuple[int, int]) -> Tuple[Tuple[int, int], int]:\n",
        "    \"\"\"\n",
        "    Вычисляет координаты четвертой вершины параллелограмма и его площадь,\n",
        "    основываясь на трех заданных точках.\n",
        "\n",
        "    :param A: Координаты точки A (x, y)\n",
        "    :param B: Координаты точки B (x, y)\n",
        "    :param C: Координаты точки C (x, y)\n",
        "    :return: Кортеж с координатами вершины D и значением площади\n",
        "    \"\"\"\n",
        "    # Определяем координаты точки D\n",
        "    D_x = A[0] + C[0] - B[0]\n",
        "    D_y = A[1] + C[1] - B[1]\n",
        "    D = (D_x, D_y)\n",
        "\n",
        "    # Формируем векторы AB и AD\n",
        "    vec_AB = (B[0] - A[0], B[1] - A[1])\n",
        "    vec_AD = (D[0] - A[0], D[1] - A[1])\n",
        "\n",
        "    # Вычисляем площадь через определитель\n",
        "    parallelogram_area = abs(vec_AB[0] * vec_AD[1] - vec_AB[1] * vec_AD[0])\n",
        "\n",
        "    return D, parallelogram_area\n",
        "\n",
        "# Пример вызова функции\n",
        "A_point = (1, 2)\n",
        "B_point = (4, 3)\n",
        "C_point = (3, 6)\n",
        "\n",
        "D_point, area_value = compute_parallelogram(A_point, B_point, C_point)\n",
        "\n",
        "print(\"Четвертая вершина D:\", D_point)\n",
        "print(\"Площадь параллелограмма:\", area_value)\n"
      ]
    },
    {
      "cell_type": "markdown",
      "metadata": {
        "id": "PhgPCwxVBjl3"
      },
      "source": [
        "<font color=\"red\"> *Коментар викладача:* <font>"
      ]
    },
    {
      "cell_type": "markdown",
      "metadata": {
        "id": "hLDe3ZyhBjl4"
      },
      "source": [
        "\n",
        "🧩  **Задача 3.** Оберіть одну із задач 3.6 - 3.7 на ваш вибір з комп'ютерного практикуму [LA_CP_03](https://github.com/LPolyakova/Linear_Algebra_for_CS_students/blob/main/CP/LA_CP_03_Determinants.ipynb). Скопіюйте умову в комірки нижче та виконайте завдання."
      ]
    },
    {
      "cell_type": "markdown",
      "metadata": {
        "id": "BX_IhGnqBjl4"
      },
      "source": [
        "✔️ *Запишіть умови й розв'язки тут та нижче*"
      ]
    },
    {
      "cell_type": "code",
      "execution_count": 30,
      "metadata": {
        "id": "DOvnzHZsBjl4",
        "colab": {
          "base_uri": "https://localhost:8080/"
        },
        "outputId": "0395ad23-8dcb-4c11-ef60-0c2e9a9fa494"
      },
      "outputs": [
        {
          "output_type": "stream",
          "name": "stdout",
          "text": [
            "Визначник (метод Чіо): 25.000000\n",
            "Час обчислення (метод Чіо): 0.000102 сек\n",
            "Визначник (NumPy): 25.000000\n",
            "Час обчислення (NumPy): 0.000226 сек\n"
          ]
        }
      ],
      "source": [
        "import numpy as np\n",
        "import time\n",
        "from typing import Union\n",
        "\n",
        "def compute_determinant_chio(matrix: np.ndarray) -> Union[int, float]:\n",
        "    \"\"\"\n",
        "    Обчислення визначника матриці за методом Чіо.\n",
        "    :param matrix: Квадратна матриця у вигляді numpy.ndarray\n",
        "    :return: Визначник матриці\n",
        "    \"\"\"\n",
        "    size = matrix.shape[0]\n",
        "\n",
        "    if size == 1:\n",
        "        return matrix[0, 0]\n",
        "    elif size == 2:\n",
        "        return matrix[0, 0] * matrix[1, 1] - matrix[0, 1] * matrix[1, 0]\n",
        "\n",
        "    if matrix[0, 0] == 0:\n",
        "        raise ValueError(\"Метод Чіо не застосовується, якщо перший елемент матриці дорівнює нулю.\")\n",
        "\n",
        "    scale_factor = 1 / matrix[0, 0]\n",
        "    reduced_matrix = np.zeros((size - 1, size - 1))\n",
        "\n",
        "    for row in range(1, size):\n",
        "        for col in range(1, size):\n",
        "            reduced_matrix[row - 1, col - 1] = (\n",
        "                matrix[row, col] * matrix[0, 0] - matrix[row, 0] * matrix[0, col]\n",
        "            )\n",
        "\n",
        "    return scale_factor * compute_determinant_chio(reduced_matrix)\n",
        "\n",
        "if __name__ == \"__main__\":\n",
        "    # Приклад матриці\n",
        "    test_matrix = np.array([\n",
        "        [2, 1, 1],\n",
        "        [3, 4, -1],\n",
        "        [1, 5, 1]\n",
        "    ])\n",
        "\n",
        "    # Обчислення визначника за методом Чіо\n",
        "    start_time = time.time()\n",
        "    determinant_chio = compute_determinant_chio(test_matrix)\n",
        "    chio_duration = time.time() - start_time\n",
        "\n",
        "    # Обчислення визначника за допомогою NumPy\n",
        "    start_time = time.time()\n",
        "    determinant_numpy = np.linalg.det(test_matrix)\n",
        "    numpy_duration = time.time() - start_time\n",
        "\n",
        "    print(f\"Визначник (метод Чіо): {determinant_chio:.6f}\")\n",
        "    print(f\"Час обчислення (метод Чіо): {chio_duration:.6f} сек\")\n",
        "    print(f\"Визначник (NumPy): {determinant_numpy:.6f}\")\n",
        "    print(f\"Час обчислення (NumPy): {numpy_duration:.6f} сек\")\n"
      ]
    },
    {
      "cell_type": "markdown",
      "source": [
        "### **Мої міркування щодо першого, другого та третього пункту**\n",
        "\n",
        "#### **1. Аналіз загального випадку (визначники порядку 3)**  \n",
        "У першому випадку ми розглядаємо загальну структуру матриці \\( A \\) порядку 3. Головна ідея полягає в тому, щоб перетворити матрицю таким чином, щоб її перший стовпчик (окрім першого елемента) складався з нулів. Це дозволяє звести обчислення визначника до простішого випадку.\n",
        "\n",
        "**Міркування:**\n",
        "- Ми домножуємо другий і третій рядки на \\( a_{11} \\), що дозволяє зробити всі наступні операції цілочисельними.\n",
        "- Віднімаючи від другого і третього рядка відповідні комбінації першого, ми отримуємо матрицю, в якій всі елементи першого стовпця, окрім \\( a_{11} \\), стають нулями.\n",
        "- Це дозволяє перейти до матриці меншого порядку \\( C \\), яка містить мініори початкової матриці.\n",
        "\n",
        "**Ключовий результат:**  \n",
        "Ми доводимо, що  \n",
        "$$\n",
        "\\det A = \\frac{1}{a_{11}} \\det D\n",
        "$$  \n",
        "де \\( D \\) – нова матриця меншого порядку.\n",
        "\n",
        "---\n",
        "\n",
        "#### **2. Доведення для загального випадку**  \n",
        "Тепер ми узагальнюємо цей метод для матриці довільного порядку \\( n \\).  \n",
        "Основна ідея залишається тією ж: шляхом елементарних перетворень ми спрощуємо обчислення, зводячи його до визначника матриці меншого порядку.\n",
        "\n",
        "**Міркування:**\n",
        "- Ми знаємо, що нова матриця \\( D \\) містить мініори другого порядку вихідної матриці \\( A \\).\n",
        "- Визначник матриці \\( A \\) виражається через визначник \\( D \\), скоригований множником \\( \\frac{1}{a_{11}^{n-2}} \\).\n",
        "- Це дає загальну формулу:\n",
        "  $$\n",
        "  \\det A = \\frac{1}{a_{11}^{n-2}} \\det D\n",
        "  $$\n",
        "- **Важливий висновок:** цей метод працює для будь-якої матриці, не лише для цілих чисел.\n",
        "\n",
        "**Ключовий результат:**  \n",
        "Трюк Чіо дозволяє ефективно обчислювати визначники, зменшуючи порядок матриці та спрощуючи розрахунки.\n",
        "\n",
        "---\n",
        "\n",
        "#### **3. Що робити, якщо \\( a_{11} = 0 \\)?**  \n",
        "Якщо перший елемент \\( a_{11} = 0 \\), трюк Чіо в своєму базовому вигляді не працює. В такому випадку можливі такі рішення:\n",
        "\n",
        "**Міркування:**\n",
        "1. **Перестановка рядків або стовпців**  \n",
        "   Якщо існує інший ненульовий елемент у першому рядку або стовпці, ми можемо поміняти рядки або стовпці місцями, щоб зробити перший елемент ненульовим.\n",
        "   \n",
        "2. **Використання іншого розкладу**  \n",
        "   Якщо жодна перестановка не допомагає (наприклад, якщо перший стовпець складається лише з нулів), то потрібно використовувати стандартний метод розкладу за мінором або метод Гауса.\n",
        "\n",
        "**Ключовий результат:**  \n",
        "Метод Чіо застосовується лише у випадках, коли \\( a_{11} \\neq 0 \\). Якщо ж \\( a_{11} = 0 \\), слід шукати альтернативні підходи.\n"
      ],
      "metadata": {
        "id": "AMWaYhhwGdIY"
      }
    },
    {
      "cell_type": "markdown",
      "metadata": {
        "id": "VQjiSuZuBjl4"
      },
      "source": [
        "<font color=\"red\"> *Коментар викладача:* <font>"
      ]
    }
  ],
  "metadata": {
    "colab": {
      "provenance": []
    },
    "kernelspec": {
      "display_name": "Python 3 (ipykernel)",
      "language": "python",
      "name": "python3"
    },
    "language_info": {
      "codemirror_mode": {
        "name": "ipython",
        "version": 3
      },
      "file_extension": ".py",
      "mimetype": "text/x-python",
      "name": "python",
      "nbconvert_exporter": "python",
      "pygments_lexer": "ipython3",
      "version": "3.12.4"
    }
  },
  "nbformat": 4,
  "nbformat_minor": 0
}